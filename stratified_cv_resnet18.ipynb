{
 "cells": [
  {
   "cell_type": "code",
   "execution_count": 1,
   "metadata": {},
   "outputs": [],
   "source": [
    "import os\n",
    "os.environ[\"CUDA_VISIBLE_DEVICES\"] = \"1\""
   ]
  },
  {
   "cell_type": "code",
   "execution_count": 2,
   "metadata": {},
   "outputs": [],
   "source": [
    "import torch\n",
    "import torch.nn as nn\n",
    "import torch.optim as optim\n",
    "from torch.utils.data import DataLoader, SubsetRandomSampler\n",
    "from torchvision import transforms, datasets, models\n",
    "from sklearn.model_selection import StratifiedKFold\n",
    "from tqdm.notebook import tqdm\n",
    "from sklearn.metrics import precision_score, recall_score, f1_score\n",
    "import matplotlib.pyplot as plt\n",
    "\n",
    "# Define the path to your dataset\n",
    "path = '/home/rishabh.mondal/R_P_project/Faulty_solar_panel'\n",
    "\n",
    "# Define transformations to be applied to the images\n",
    "transform = transforms.Compose([\n",
    "    transforms.Resize((224, 224)),\n",
    "    transforms.ToTensor(),\n",
    "])\n",
    "\n",
    "# Create the ImageFolder dataset\n",
    "dataset = datasets.ImageFolder(root=path, transform=transform)\n",
    "\n",
    "# Define the number of splits for cross-validation\n",
    "n_splits = 4  # 4-fold cross-validation\n",
    "\n",
    "# Initialize stratified k-fold cross-validation\n",
    "stratified_kfold = StratifiedKFold(n_splits=n_splits, shuffle=True, random_state=42)"
   ]
  },
  {
   "cell_type": "code",
   "execution_count": 3,
   "metadata": {},
   "outputs": [
    {
     "name": "stderr",
     "output_type": "stream",
     "text": [
      "/home/rishabh.mondal/miniconda3/envs/torch_space/lib/python3.11/site-packages/torchvision/models/_utils.py:208: UserWarning: The parameter 'pretrained' is deprecated since 0.13 and may be removed in the future, please use 'weights' instead.\n",
      "  warnings.warn(\n",
      "/home/rishabh.mondal/miniconda3/envs/torch_space/lib/python3.11/site-packages/torchvision/models/_utils.py:223: UserWarning: Arguments other than a weight enum or `None` for 'weights' are deprecated since 0.13 and may be removed in the future. The current behavior is equivalent to passing `weights=ResNet18_Weights.IMAGENET1K_V1`. You can also use `weights=ResNet18_Weights.DEFAULT` to get the most up-to-date weights.\n",
      "  warnings.warn(msg)\n"
     ]
    },
    {
     "data": {
      "text/plain": [
       "ResNet(\n",
       "  (conv1): Conv2d(3, 64, kernel_size=(7, 7), stride=(2, 2), padding=(3, 3), bias=False)\n",
       "  (bn1): BatchNorm2d(64, eps=1e-05, momentum=0.1, affine=True, track_running_stats=True)\n",
       "  (relu): ReLU(inplace=True)\n",
       "  (maxpool): MaxPool2d(kernel_size=3, stride=2, padding=1, dilation=1, ceil_mode=False)\n",
       "  (layer1): Sequential(\n",
       "    (0): BasicBlock(\n",
       "      (conv1): Conv2d(64, 64, kernel_size=(3, 3), stride=(1, 1), padding=(1, 1), bias=False)\n",
       "      (bn1): BatchNorm2d(64, eps=1e-05, momentum=0.1, affine=True, track_running_stats=True)\n",
       "      (relu): ReLU(inplace=True)\n",
       "      (conv2): Conv2d(64, 64, kernel_size=(3, 3), stride=(1, 1), padding=(1, 1), bias=False)\n",
       "      (bn2): BatchNorm2d(64, eps=1e-05, momentum=0.1, affine=True, track_running_stats=True)\n",
       "    )\n",
       "    (1): BasicBlock(\n",
       "      (conv1): Conv2d(64, 64, kernel_size=(3, 3), stride=(1, 1), padding=(1, 1), bias=False)\n",
       "      (bn1): BatchNorm2d(64, eps=1e-05, momentum=0.1, affine=True, track_running_stats=True)\n",
       "      (relu): ReLU(inplace=True)\n",
       "      (conv2): Conv2d(64, 64, kernel_size=(3, 3), stride=(1, 1), padding=(1, 1), bias=False)\n",
       "      (bn2): BatchNorm2d(64, eps=1e-05, momentum=0.1, affine=True, track_running_stats=True)\n",
       "    )\n",
       "  )\n",
       "  (layer2): Sequential(\n",
       "    (0): BasicBlock(\n",
       "      (conv1): Conv2d(64, 128, kernel_size=(3, 3), stride=(2, 2), padding=(1, 1), bias=False)\n",
       "      (bn1): BatchNorm2d(128, eps=1e-05, momentum=0.1, affine=True, track_running_stats=True)\n",
       "      (relu): ReLU(inplace=True)\n",
       "      (conv2): Conv2d(128, 128, kernel_size=(3, 3), stride=(1, 1), padding=(1, 1), bias=False)\n",
       "      (bn2): BatchNorm2d(128, eps=1e-05, momentum=0.1, affine=True, track_running_stats=True)\n",
       "      (downsample): Sequential(\n",
       "        (0): Conv2d(64, 128, kernel_size=(1, 1), stride=(2, 2), bias=False)\n",
       "        (1): BatchNorm2d(128, eps=1e-05, momentum=0.1, affine=True, track_running_stats=True)\n",
       "      )\n",
       "    )\n",
       "    (1): BasicBlock(\n",
       "      (conv1): Conv2d(128, 128, kernel_size=(3, 3), stride=(1, 1), padding=(1, 1), bias=False)\n",
       "      (bn1): BatchNorm2d(128, eps=1e-05, momentum=0.1, affine=True, track_running_stats=True)\n",
       "      (relu): ReLU(inplace=True)\n",
       "      (conv2): Conv2d(128, 128, kernel_size=(3, 3), stride=(1, 1), padding=(1, 1), bias=False)\n",
       "      (bn2): BatchNorm2d(128, eps=1e-05, momentum=0.1, affine=True, track_running_stats=True)\n",
       "    )\n",
       "  )\n",
       "  (layer3): Sequential(\n",
       "    (0): BasicBlock(\n",
       "      (conv1): Conv2d(128, 256, kernel_size=(3, 3), stride=(2, 2), padding=(1, 1), bias=False)\n",
       "      (bn1): BatchNorm2d(256, eps=1e-05, momentum=0.1, affine=True, track_running_stats=True)\n",
       "      (relu): ReLU(inplace=True)\n",
       "      (conv2): Conv2d(256, 256, kernel_size=(3, 3), stride=(1, 1), padding=(1, 1), bias=False)\n",
       "      (bn2): BatchNorm2d(256, eps=1e-05, momentum=0.1, affine=True, track_running_stats=True)\n",
       "      (downsample): Sequential(\n",
       "        (0): Conv2d(128, 256, kernel_size=(1, 1), stride=(2, 2), bias=False)\n",
       "        (1): BatchNorm2d(256, eps=1e-05, momentum=0.1, affine=True, track_running_stats=True)\n",
       "      )\n",
       "    )\n",
       "    (1): BasicBlock(\n",
       "      (conv1): Conv2d(256, 256, kernel_size=(3, 3), stride=(1, 1), padding=(1, 1), bias=False)\n",
       "      (bn1): BatchNorm2d(256, eps=1e-05, momentum=0.1, affine=True, track_running_stats=True)\n",
       "      (relu): ReLU(inplace=True)\n",
       "      (conv2): Conv2d(256, 256, kernel_size=(3, 3), stride=(1, 1), padding=(1, 1), bias=False)\n",
       "      (bn2): BatchNorm2d(256, eps=1e-05, momentum=0.1, affine=True, track_running_stats=True)\n",
       "    )\n",
       "  )\n",
       "  (layer4): Sequential(\n",
       "    (0): BasicBlock(\n",
       "      (conv1): Conv2d(256, 512, kernel_size=(3, 3), stride=(2, 2), padding=(1, 1), bias=False)\n",
       "      (bn1): BatchNorm2d(512, eps=1e-05, momentum=0.1, affine=True, track_running_stats=True)\n",
       "      (relu): ReLU(inplace=True)\n",
       "      (conv2): Conv2d(512, 512, kernel_size=(3, 3), stride=(1, 1), padding=(1, 1), bias=False)\n",
       "      (bn2): BatchNorm2d(512, eps=1e-05, momentum=0.1, affine=True, track_running_stats=True)\n",
       "      (downsample): Sequential(\n",
       "        (0): Conv2d(256, 512, kernel_size=(1, 1), stride=(2, 2), bias=False)\n",
       "        (1): BatchNorm2d(512, eps=1e-05, momentum=0.1, affine=True, track_running_stats=True)\n",
       "      )\n",
       "    )\n",
       "    (1): BasicBlock(\n",
       "      (conv1): Conv2d(512, 512, kernel_size=(3, 3), stride=(1, 1), padding=(1, 1), bias=False)\n",
       "      (bn1): BatchNorm2d(512, eps=1e-05, momentum=0.1, affine=True, track_running_stats=True)\n",
       "      (relu): ReLU(inplace=True)\n",
       "      (conv2): Conv2d(512, 512, kernel_size=(3, 3), stride=(1, 1), padding=(1, 1), bias=False)\n",
       "      (bn2): BatchNorm2d(512, eps=1e-05, momentum=0.1, affine=True, track_running_stats=True)\n",
       "    )\n",
       "  )\n",
       "  (avgpool): AdaptiveAvgPool2d(output_size=(1, 1))\n",
       "  (fc): Linear(in_features=512, out_features=1000, bias=True)\n",
       ")"
      ]
     },
     "execution_count": 3,
     "metadata": {},
     "output_type": "execute_result"
    }
   ],
   "source": [
    "model = models.resnet18(pretrained=True)\n",
    "model"
   ]
  },
  {
   "cell_type": "code",
   "execution_count": 4,
   "metadata": {},
   "outputs": [
    {
     "name": "stdout",
     "output_type": "stream",
     "text": [
      "Training Fold 1/4\n",
      "3 1\n"
     ]
    },
    {
     "name": "stderr",
     "output_type": "stream",
     "text": [
      "/home/rishabh.mondal/miniconda3/envs/torch_space/lib/python3.11/site-packages/torchvision/models/_utils.py:208: UserWarning: The parameter 'pretrained' is deprecated since 0.13 and may be removed in the future, please use 'weights' instead.\n",
      "  warnings.warn(\n",
      "/home/rishabh.mondal/miniconda3/envs/torch_space/lib/python3.11/site-packages/torchvision/models/_utils.py:223: UserWarning: Arguments other than a weight enum or `None` for 'weights' are deprecated since 0.13 and may be removed in the future. The current behavior is equivalent to passing `weights=ResNet18_Weights.IMAGENET1K_V1`. You can also use `weights=ResNet18_Weights.DEFAULT` to get the most up-to-date weights.\n",
      "  warnings.warn(msg)\n"
     ]
    },
    {
     "name": "stdout",
     "output_type": "stream",
     "text": [
      "Fold: 1, Epoch 10/50, Train Loss: 0.0115, Train Accuracy: 0.9970, Val Loss: 0.7285, Val Accuracy: 0.8423, Precision: 0.8598, Recall: 0.8423, F1 Score: 0.8432\n",
      "Fold: 1, Epoch 20/50, Train Loss: 0.0083, Train Accuracy: 0.9940, Val Loss: 0.5086, Val Accuracy: 0.8739, Precision: 0.8750, Recall: 0.8739, F1 Score: 0.8730\n",
      "Fold: 1, Epoch 30/50, Train Loss: 0.0054, Train Accuracy: 0.9970, Val Loss: 0.4662, Val Accuracy: 0.8784, Precision: 0.8795, Recall: 0.8784, F1 Score: 0.8781\n",
      "Fold: 1, Epoch 40/50, Train Loss: 0.0072, Train Accuracy: 0.9970, Val Loss: 0.4486, Val Accuracy: 0.8784, Precision: 0.8794, Recall: 0.8784, F1 Score: 0.8778\n",
      "Fold: 1, Epoch 50/50, Train Loss: 0.0057, Train Accuracy: 0.9955, Val Loss: 0.4626, Val Accuracy: 0.8739, Precision: 0.8738, Recall: 0.8739, F1 Score: 0.8733\n",
      "Training Fold 2/4\n",
      "3 1\n"
     ]
    },
    {
     "name": "stderr",
     "output_type": "stream",
     "text": [
      "/home/rishabh.mondal/miniconda3/envs/torch_space/lib/python3.11/site-packages/torchvision/models/_utils.py:208: UserWarning: The parameter 'pretrained' is deprecated since 0.13 and may be removed in the future, please use 'weights' instead.\n",
      "  warnings.warn(\n",
      "/home/rishabh.mondal/miniconda3/envs/torch_space/lib/python3.11/site-packages/torchvision/models/_utils.py:223: UserWarning: Arguments other than a weight enum or `None` for 'weights' are deprecated since 0.13 and may be removed in the future. The current behavior is equivalent to passing `weights=ResNet18_Weights.IMAGENET1K_V1`. You can also use `weights=ResNet18_Weights.DEFAULT` to get the most up-to-date weights.\n",
      "  warnings.warn(msg)\n"
     ]
    },
    {
     "name": "stdout",
     "output_type": "stream",
     "text": [
      "Fold: 2, Epoch 10/50, Train Loss: 0.0213, Train Accuracy: 0.9955, Val Loss: 1.5683, Val Accuracy: 0.7285, Precision: 0.7437, Recall: 0.7285, F1 Score: 0.7182\n",
      "Fold: 2, Epoch 20/50, Train Loss: 0.0013, Train Accuracy: 1.0000, Val Loss: 0.8174, Val Accuracy: 0.8416, Precision: 0.8454, Recall: 0.8416, F1 Score: 0.8419\n",
      "Fold: 2, Epoch 30/50, Train Loss: 0.0002, Train Accuracy: 1.0000, Val Loss: 0.8640, Val Accuracy: 0.8416, Precision: 0.8464, Recall: 0.8416, F1 Score: 0.8421\n",
      "Fold: 2, Epoch 40/50, Train Loss: 0.0002, Train Accuracy: 1.0000, Val Loss: 0.8770, Val Accuracy: 0.8326, Precision: 0.8391, Recall: 0.8326, F1 Score: 0.8338\n",
      "Fold: 2, Epoch 50/50, Train Loss: 0.0001, Train Accuracy: 1.0000, Val Loss: 0.8680, Val Accuracy: 0.8416, Precision: 0.8465, Recall: 0.8416, F1 Score: 0.8425\n",
      "Training Fold 3/4\n",
      "3 1\n"
     ]
    },
    {
     "name": "stderr",
     "output_type": "stream",
     "text": [
      "/home/rishabh.mondal/miniconda3/envs/torch_space/lib/python3.11/site-packages/torchvision/models/_utils.py:208: UserWarning: The parameter 'pretrained' is deprecated since 0.13 and may be removed in the future, please use 'weights' instead.\n",
      "  warnings.warn(\n",
      "/home/rishabh.mondal/miniconda3/envs/torch_space/lib/python3.11/site-packages/torchvision/models/_utils.py:223: UserWarning: Arguments other than a weight enum or `None` for 'weights' are deprecated since 0.13 and may be removed in the future. The current behavior is equivalent to passing `weights=ResNet18_Weights.IMAGENET1K_V1`. You can also use `weights=ResNet18_Weights.DEFAULT` to get the most up-to-date weights.\n",
      "  warnings.warn(msg)\n"
     ]
    },
    {
     "name": "stdout",
     "output_type": "stream",
     "text": [
      "Fold: 3, Epoch 10/50, Train Loss: 0.0191, Train Accuracy: 0.9955, Val Loss: 1.0024, Val Accuracy: 0.8235, Precision: 0.8388, Recall: 0.8235, F1 Score: 0.8219\n",
      "Fold: 3, Epoch 20/50, Train Loss: 0.0095, Train Accuracy: 0.9955, Val Loss: 0.9524, Val Accuracy: 0.8190, Precision: 0.8477, Recall: 0.8190, F1 Score: 0.8201\n",
      "Fold: 3, Epoch 30/50, Train Loss: 0.0119, Train Accuracy: 0.9970, Val Loss: 2.5193, Val Accuracy: 0.6335, Precision: 0.7952, Recall: 0.6335, F1 Score: 0.6044\n",
      "Fold: 3, Epoch 40/50, Train Loss: 0.0368, Train Accuracy: 0.9880, Val Loss: 1.5225, Val Accuracy: 0.7376, Precision: 0.7550, Recall: 0.7376, F1 Score: 0.7377\n",
      "Fold: 3, Epoch 50/50, Train Loss: 0.0072, Train Accuracy: 0.9970, Val Loss: 0.9319, Val Accuracy: 0.7964, Precision: 0.8051, Recall: 0.7964, F1 Score: 0.7976\n",
      "Training Fold 4/4\n",
      "3 1\n"
     ]
    },
    {
     "name": "stderr",
     "output_type": "stream",
     "text": [
      "/home/rishabh.mondal/miniconda3/envs/torch_space/lib/python3.11/site-packages/torchvision/models/_utils.py:208: UserWarning: The parameter 'pretrained' is deprecated since 0.13 and may be removed in the future, please use 'weights' instead.\n",
      "  warnings.warn(\n",
      "/home/rishabh.mondal/miniconda3/envs/torch_space/lib/python3.11/site-packages/torchvision/models/_utils.py:223: UserWarning: Arguments other than a weight enum or `None` for 'weights' are deprecated since 0.13 and may be removed in the future. The current behavior is equivalent to passing `weights=ResNet18_Weights.IMAGENET1K_V1`. You can also use `weights=ResNet18_Weights.DEFAULT` to get the most up-to-date weights.\n",
      "  warnings.warn(msg)\n"
     ]
    },
    {
     "name": "stdout",
     "output_type": "stream",
     "text": [
      "Fold: 4, Epoch 10/50, Train Loss: 0.0242, Train Accuracy: 0.9940, Val Loss: 0.8878, Val Accuracy: 0.8326, Precision: 0.8495, Recall: 0.8326, F1 Score: 0.8349\n",
      "Fold: 4, Epoch 20/50, Train Loss: 0.0121, Train Accuracy: 0.9970, Val Loss: 1.1346, Val Accuracy: 0.8552, Precision: 0.8614, Recall: 0.8552, F1 Score: 0.8537\n",
      "Fold: 4, Epoch 30/50, Train Loss: 0.0042, Train Accuracy: 0.9985, Val Loss: 0.7384, Val Accuracy: 0.8597, Precision: 0.8664, Recall: 0.8597, F1 Score: 0.8591\n",
      "Fold: 4, Epoch 40/50, Train Loss: 0.0036, Train Accuracy: 0.9985, Val Loss: 0.7737, Val Accuracy: 0.8733, Precision: 0.8769, Recall: 0.8733, F1 Score: 0.8719\n",
      "Fold: 4, Epoch 50/50, Train Loss: 0.0036, Train Accuracy: 0.9985, Val Loss: 0.7771, Val Accuracy: 0.8688, Precision: 0.8699, Recall: 0.8688, F1 Score: 0.8670\n"
     ]
    }
   ],
   "source": [
    "# Lists to store metrics for plotting\n",
    "train_losses = []\n",
    "val_losses = []\n",
    "accuracies = []\n",
    "\n",
    "# Training loop for each fold\n",
    "for fold, (train_indices, val_indices) in enumerate(stratified_kfold.split(dataset.samples, dataset.targets)):\n",
    "    print(f\"Training Fold {fold + 1}/{n_splits}\")\n",
    "\n",
    "    # Create data loaders for the current fold\n",
    "    train_sampler = SubsetRandomSampler(train_indices)\n",
    "    val_sampler = SubsetRandomSampler(val_indices)\n",
    "\n",
    "    train_loader = DataLoader(dataset, batch_size=264, sampler=train_sampler)\n",
    "    val_loader = DataLoader(dataset, batch_size=264, sampler=val_sampler)\n",
    "\n",
    "    print(len(train_loader), len(val_loader))\n",
    "\n",
    "    # Define the Resnet18 model\n",
    "    model = models.resnet18(pretrained=True)\n",
    "    model.fc = nn.Linear(512, len(dataset.classes))\n",
    "\n",
    "    # Define loss function and optimizer\n",
    "    criterion = nn.CrossEntropyLoss()\n",
    "    optimizer = optim.Adam(model.parameters(), lr=0.001)\n",
    "\n",
    "    # Move the model to GPU if available\n",
    "    device = torch.device('cuda' if torch.cuda.is_available() else 'cpu')\n",
    "    model.to(device)\n",
    "\n",
    "    # Training loop\n",
    "    num_epochs = 50\n",
    "\n",
    "    for epoch in range(num_epochs):\n",
    "        model.train()\n",
    "        total_correct = 0\n",
    "        total_samples = 0\n",
    "        running_loss = 0.0\n",
    "\n",
    "        for images, labels in train_loader:\n",
    "            images, labels = images.to(device), labels.to(device)\n",
    "\n",
    "            optimizer.zero_grad()\n",
    "            outputs = model(images)\n",
    "            loss = criterion(outputs, labels)\n",
    "            loss.backward()\n",
    "            optimizer.step()\n",
    "\n",
    "            running_loss += loss.item()\n",
    "\n",
    "            _, predicted = torch.max(outputs.data, 1)\n",
    "            total_samples += labels.size(0)\n",
    "            total_correct += (predicted == labels).sum().item()\n",
    "\n",
    "        train_loss = running_loss / len(train_loader)\n",
    "        train_accuracy = total_correct / total_samples\n",
    "        train_losses.append(train_loss)\n",
    "\n",
    "        # Validation\n",
    "        if epoch % 10 == 9:  # Print results every 10 epochs\n",
    "            model.eval()\n",
    "            with torch.no_grad():\n",
    "                val_loss = 0.0\n",
    "                correct = 0\n",
    "                total = 0\n",
    "                all_predicted = []\n",
    "                all_labels = []\n",
    "\n",
    "                for images, labels in val_loader:\n",
    "                    images, labels = images.to(device), labels.to(device)\n",
    "\n",
    "                    outputs = model(images)\n",
    "                    _, predicted = torch.max(outputs.data, 1)\n",
    "                    total += labels.size(0)\n",
    "                    correct += (predicted == labels).sum().item()\n",
    "\n",
    "                    loss = criterion(outputs, labels)\n",
    "                    val_loss += loss.item()\n",
    "\n",
    "                    all_predicted.extend(predicted.cpu().numpy())\n",
    "                    all_labels.extend(labels.cpu().numpy())\n",
    "\n",
    "                val_losses.append(val_loss / len(val_loader))\n",
    "                accuracy = correct / total\n",
    "                accuracies.append(accuracy)\n",
    "\n",
    "                # Calculate precision, recall, and F1 score\n",
    "                precision = precision_score(all_labels, all_predicted, average='weighted')\n",
    "                recall = recall_score(all_labels, all_predicted, average='weighted')\n",
    "                f1 = f1_score(all_labels, all_predicted, average='weighted')\n",
    "\n",
    "                print(f'Fold: {fold + 1}, Epoch {epoch + 1}/{num_epochs}, '\n",
    "                      f'Train Loss: {train_loss:.4f}, Train Accuracy: {train_accuracy:.4f}, '\n",
    "                      f'Val Loss: {val_loss / len(val_loader):.4f}, Val Accuracy: {accuracy:.4f}, '\n",
    "                      f'Precision: {precision:.4f}, Recall: {recall:.4f}, F1 Score: {f1:.4f}')\n",
    "\n",
    "    # # Plotting loss and accuracy curves\n",
    "    # plt.figure(figsize=(12, 4))\n",
    "    # plt.subplot(1, 2, 1)\n",
    "    # plt.plot(train_losses, label='Train Loss')\n",
    "    # plt.plot(val_losses, label='Validation Loss')\n",
    "    # plt.xlabel('Epochs')\n",
    "    # plt\n"
   ]
  },
  {
   "cell_type": "code",
   "execution_count": 5,
   "metadata": {},
   "outputs": [
    {
     "name": "stdout",
     "output_type": "stream",
     "text": [
      "Training Fold 1/4\n",
      "3 1\n"
     ]
    },
    {
     "name": "stderr",
     "output_type": "stream",
     "text": [
      "/home/rishabh.mondal/miniconda3/envs/torch_space/lib/python3.11/site-packages/torchvision/models/_utils.py:208: UserWarning: The parameter 'pretrained' is deprecated since 0.13 and may be removed in the future, please use 'weights' instead.\n",
      "  warnings.warn(\n",
      "/home/rishabh.mondal/miniconda3/envs/torch_space/lib/python3.11/site-packages/torchvision/models/_utils.py:223: UserWarning: Arguments other than a weight enum or `None` for 'weights' are deprecated since 0.13 and may be removed in the future. The current behavior is equivalent to passing `weights=None`.\n",
      "  warnings.warn(msg)\n",
      "/home/rishabh.mondal/miniconda3/envs/torch_space/lib/python3.11/site-packages/sklearn/metrics/_classification.py:1471: UndefinedMetricWarning: Precision is ill-defined and being set to 0.0 in labels with no predicted samples. Use `zero_division` parameter to control this behavior.\n",
      "  _warn_prf(average, modifier, msg_start, len(result))\n"
     ]
    },
    {
     "name": "stdout",
     "output_type": "stream",
     "text": [
      "Fold: 1, Epoch 10/50, Train Loss: 0.4525, Train Accuracy: 0.8522, Val Loss: 3.9141, Val Accuracy: 0.3378, Precision: 0.1869, Recall: 0.3378, F1 Score: 0.2216\n",
      "Fold: 1, Epoch 20/50, Train Loss: 0.1545, Train Accuracy: 0.9668, Val Loss: 2.8126, Val Accuracy: 0.4099, Precision: 0.5078, Recall: 0.4099, F1 Score: 0.3960\n",
      "Fold: 1, Epoch 30/50, Train Loss: 0.0811, Train Accuracy: 0.9774, Val Loss: 1.6240, Val Accuracy: 0.6532, Precision: 0.6801, Recall: 0.6532, F1 Score: 0.6577\n",
      "Fold: 1, Epoch 40/50, Train Loss: 0.0106, Train Accuracy: 0.9925, Val Loss: 1.7525, Val Accuracy: 0.6126, Precision: 0.6634, Recall: 0.6126, F1 Score: 0.6085\n",
      "Fold: 1, Epoch 50/50, Train Loss: 0.0090, Train Accuracy: 0.9970, Val Loss: 1.2442, Val Accuracy: 0.7568, Precision: 0.7688, Recall: 0.7568, F1 Score: 0.7573\n",
      "Training Fold 2/4\n",
      "3 1\n"
     ]
    },
    {
     "name": "stderr",
     "output_type": "stream",
     "text": [
      "/home/rishabh.mondal/miniconda3/envs/torch_space/lib/python3.11/site-packages/torchvision/models/_utils.py:208: UserWarning: The parameter 'pretrained' is deprecated since 0.13 and may be removed in the future, please use 'weights' instead.\n",
      "  warnings.warn(\n",
      "/home/rishabh.mondal/miniconda3/envs/torch_space/lib/python3.11/site-packages/torchvision/models/_utils.py:223: UserWarning: Arguments other than a weight enum or `None` for 'weights' are deprecated since 0.13 and may be removed in the future. The current behavior is equivalent to passing `weights=None`.\n",
      "  warnings.warn(msg)\n",
      "/home/rishabh.mondal/miniconda3/envs/torch_space/lib/python3.11/site-packages/sklearn/metrics/_classification.py:1471: UndefinedMetricWarning: Precision is ill-defined and being set to 0.0 in labels with no predicted samples. Use `zero_division` parameter to control this behavior.\n",
      "  _warn_prf(average, modifier, msg_start, len(result))\n"
     ]
    },
    {
     "name": "stdout",
     "output_type": "stream",
     "text": [
      "Fold: 2, Epoch 10/50, Train Loss: 0.4340, Train Accuracy: 0.8675, Val Loss: 4.7682, Val Accuracy: 0.2986, Precision: 0.2251, Recall: 0.2986, F1 Score: 0.1830\n",
      "Fold: 2, Epoch 20/50, Train Loss: 0.1191, Train Accuracy: 0.9639, Val Loss: 1.7556, Val Accuracy: 0.6063, Precision: 0.6074, Recall: 0.6063, F1 Score: 0.5852\n",
      "Fold: 2, Epoch 30/50, Train Loss: 0.0174, Train Accuracy: 0.9970, Val Loss: 1.6725, Val Accuracy: 0.7059, Precision: 0.7071, Recall: 0.7059, F1 Score: 0.7007\n",
      "Fold: 2, Epoch 40/50, Train Loss: 0.0041, Train Accuracy: 0.9985, Val Loss: 1.6212, Val Accuracy: 0.6923, Precision: 0.6961, Recall: 0.6923, F1 Score: 0.6911\n",
      "Fold: 2, Epoch 50/50, Train Loss: 0.0010, Train Accuracy: 1.0000, Val Loss: 1.6382, Val Accuracy: 0.7466, Precision: 0.7408, Recall: 0.7466, F1 Score: 0.7389\n",
      "Training Fold 3/4\n",
      "3 1\n"
     ]
    },
    {
     "name": "stderr",
     "output_type": "stream",
     "text": [
      "/home/rishabh.mondal/miniconda3/envs/torch_space/lib/python3.11/site-packages/torchvision/models/_utils.py:208: UserWarning: The parameter 'pretrained' is deprecated since 0.13 and may be removed in the future, please use 'weights' instead.\n",
      "  warnings.warn(\n",
      "/home/rishabh.mondal/miniconda3/envs/torch_space/lib/python3.11/site-packages/torchvision/models/_utils.py:223: UserWarning: Arguments other than a weight enum or `None` for 'weights' are deprecated since 0.13 and may be removed in the future. The current behavior is equivalent to passing `weights=None`.\n",
      "  warnings.warn(msg)\n",
      "/home/rishabh.mondal/miniconda3/envs/torch_space/lib/python3.11/site-packages/sklearn/metrics/_classification.py:1471: UndefinedMetricWarning: Precision is ill-defined and being set to 0.0 in labels with no predicted samples. Use `zero_division` parameter to control this behavior.\n",
      "  _warn_prf(average, modifier, msg_start, len(result))\n"
     ]
    },
    {
     "name": "stdout",
     "output_type": "stream",
     "text": [
      "Fold: 3, Epoch 10/50, Train Loss: 0.4622, Train Accuracy: 0.8494, Val Loss: 3.7550, Val Accuracy: 0.2851, Precision: 0.2082, Recall: 0.2851, F1 Score: 0.1685\n",
      "Fold: 3, Epoch 20/50, Train Loss: 0.0796, Train Accuracy: 0.9759, Val Loss: 1.3271, Val Accuracy: 0.6471, Precision: 0.7364, Recall: 0.6471, F1 Score: 0.6501\n",
      "Fold: 3, Epoch 30/50, Train Loss: 0.0233, Train Accuracy: 0.9970, Val Loss: 2.3054, Val Accuracy: 0.5520, Precision: 0.7243, Recall: 0.5520, F1 Score: 0.5059\n",
      "Fold: 3, Epoch 40/50, Train Loss: 0.1068, Train Accuracy: 0.9669, Val Loss: 2.1196, Val Accuracy: 0.5520, Precision: 0.6316, Recall: 0.5520, F1 Score: 0.5238\n",
      "Fold: 3, Epoch 50/50, Train Loss: 0.0278, Train Accuracy: 0.9955, Val Loss: 1.5041, Val Accuracy: 0.6697, Precision: 0.7259, Recall: 0.6697, F1 Score: 0.6683\n",
      "Training Fold 4/4\n",
      "3 1\n"
     ]
    },
    {
     "name": "stderr",
     "output_type": "stream",
     "text": [
      "/home/rishabh.mondal/miniconda3/envs/torch_space/lib/python3.11/site-packages/torchvision/models/_utils.py:208: UserWarning: The parameter 'pretrained' is deprecated since 0.13 and may be removed in the future, please use 'weights' instead.\n",
      "  warnings.warn(\n",
      "/home/rishabh.mondal/miniconda3/envs/torch_space/lib/python3.11/site-packages/torchvision/models/_utils.py:223: UserWarning: Arguments other than a weight enum or `None` for 'weights' are deprecated since 0.13 and may be removed in the future. The current behavior is equivalent to passing `weights=None`.\n",
      "  warnings.warn(msg)\n",
      "/home/rishabh.mondal/miniconda3/envs/torch_space/lib/python3.11/site-packages/sklearn/metrics/_classification.py:1471: UndefinedMetricWarning: Precision is ill-defined and being set to 0.0 in labels with no predicted samples. Use `zero_division` parameter to control this behavior.\n",
      "  _warn_prf(average, modifier, msg_start, len(result))\n"
     ]
    },
    {
     "name": "stdout",
     "output_type": "stream",
     "text": [
      "Fold: 4, Epoch 10/50, Train Loss: 0.3791, Train Accuracy: 0.8675, Val Loss: 5.5074, Val Accuracy: 0.2489, Precision: 0.3912, Recall: 0.2489, F1 Score: 0.1375\n",
      "Fold: 4, Epoch 20/50, Train Loss: 0.0488, Train Accuracy: 0.9864, Val Loss: 1.9650, Val Accuracy: 0.5068, Precision: 0.5793, Recall: 0.5068, F1 Score: 0.4528\n",
      "Fold: 4, Epoch 30/50, Train Loss: 0.0119, Train Accuracy: 0.9985, Val Loss: 1.4084, Val Accuracy: 0.7059, Precision: 0.7718, Recall: 0.7059, F1 Score: 0.7044\n",
      "Fold: 4, Epoch 40/50, Train Loss: 0.0078, Train Accuracy: 0.9985, Val Loss: 1.0324, Val Accuracy: 0.7873, Precision: 0.7915, Recall: 0.7873, F1 Score: 0.7864\n",
      "Fold: 4, Epoch 50/50, Train Loss: 0.0084, Train Accuracy: 0.9940, Val Loss: 1.1635, Val Accuracy: 0.7692, Precision: 0.7785, Recall: 0.7692, F1 Score: 0.7689\n"
     ]
    }
   ],
   "source": [
    "# Lists to store metrics for plotting\n",
    "train_losses = []\n",
    "val_losses = []\n",
    "accuracies = []\n",
    "\n",
    "# Training loop for each fold\n",
    "for fold, (train_indices, val_indices) in enumerate(stratified_kfold.split(dataset.samples, dataset.targets)):\n",
    "    print(f\"Training Fold {fold + 1}/{n_splits}\")\n",
    "\n",
    "    # Create data loaders for the current fold\n",
    "    train_sampler = SubsetRandomSampler(train_indices)\n",
    "    val_sampler = SubsetRandomSampler(val_indices)\n",
    "\n",
    "    train_loader = DataLoader(dataset, batch_size=264, sampler=train_sampler)\n",
    "    val_loader = DataLoader(dataset, batch_size=264, sampler=val_sampler)\n",
    "\n",
    "    print(len(train_loader), len(val_loader))\n",
    "\n",
    "    # Define the ResNet18 model\n",
    "    model = models.resnet18(pretrained=False)\n",
    "    model.fc = nn.Linear(512, len(dataset.classes))\n",
    "\n",
    "    # Define loss function and optimizer\n",
    "    criterion = nn.CrossEntropyLoss()\n",
    "    optimizer = optim.Adam(model.parameters(), lr=0.001)\n",
    "\n",
    "    # Move the model to GPU if available\n",
    "    device = torch.device('cuda' if torch.cuda.is_available() else 'cpu')\n",
    "    model.to(device)\n",
    "\n",
    "    # Training loop\n",
    "    num_epochs = 50\n",
    "\n",
    "    for epoch in range(num_epochs):\n",
    "        model.train()\n",
    "        total_correct = 0\n",
    "        total_samples = 0\n",
    "        running_loss = 0.0\n",
    "\n",
    "        for images, labels in train_loader:\n",
    "            images, labels = images.to(device), labels.to(device)\n",
    "\n",
    "            optimizer.zero_grad()\n",
    "            outputs = model(images)\n",
    "            loss = criterion(outputs, labels)\n",
    "            loss.backward()\n",
    "            optimizer.step()\n",
    "\n",
    "            running_loss += loss.item()\n",
    "\n",
    "            _, predicted = torch.max(outputs.data, 1)\n",
    "            total_samples += labels.size(0)\n",
    "            total_correct += (predicted == labels).sum().item()\n",
    "\n",
    "        train_loss = running_loss / len(train_loader)\n",
    "        train_accuracy = total_correct / total_samples\n",
    "        train_losses.append(train_loss)\n",
    "\n",
    "        # Validation\n",
    "        if epoch % 10 == 9:  # Print results every 10 epochs\n",
    "            model.eval()\n",
    "            with torch.no_grad():\n",
    "                val_loss = 0.0\n",
    "                correct = 0\n",
    "                total = 0\n",
    "                all_predicted = []\n",
    "                all_labels = []\n",
    "\n",
    "                for images, labels in val_loader:\n",
    "                    images, labels = images.to(device), labels.to(device)\n",
    "\n",
    "                    outputs = model(images)\n",
    "                    _, predicted = torch.max(outputs.data, 1)\n",
    "                    total += labels.size(0)\n",
    "                    correct += (predicted == labels).sum().item()\n",
    "\n",
    "                    loss = criterion(outputs, labels)\n",
    "                    val_loss += loss.item()\n",
    "\n",
    "                    all_predicted.extend(predicted.cpu().numpy())\n",
    "                    all_labels.extend(labels.cpu().numpy())\n",
    "\n",
    "                val_losses.append(val_loss / len(val_loader))\n",
    "                accuracy = correct / total\n",
    "                accuracies.append(accuracy)\n",
    "\n",
    "                # Calculate precision, recall, and F1 score\n",
    "                precision = precision_score(all_labels, all_predicted, average='weighted')\n",
    "                recall = recall_score(all_labels, all_predicted, average='weighted')\n",
    "                f1 = f1_score(all_labels, all_predicted, average='weighted')\n",
    "\n",
    "                print(f'Fold: {fold + 1}, Epoch {epoch + 1}/{num_epochs}, '\n",
    "                      f'Train Loss: {train_loss:.4f}, Train Accuracy: {train_accuracy:.4f}, '\n",
    "                      f'Val Loss: {val_loss / len(val_loader):.4f}, Val Accuracy: {accuracy:.4f}, '\n",
    "                      f'Precision: {precision:.4f}, Recall: {recall:.4f}, F1 Score: {f1:.4f}')\n",
    "\n",
    "    # # Plotting loss and accuracy curves\n",
    "    # plt.figure(figsize=(12, 4))\n",
    "    # plt.subplot(1, 2, 1)\n",
    "    # plt.plot(train_losses, label='Train Loss')\n",
    "    # plt.plot(val_losses, label='Validation Loss')\n",
    "    # plt.xlabel('Epochs')\n",
    "    # plt\n"
   ]
  },
  {
   "cell_type": "code",
   "execution_count": null,
   "metadata": {},
   "outputs": [],
   "source": []
  },
  {
   "cell_type": "code",
   "execution_count": null,
   "metadata": {},
   "outputs": [],
   "source": []
  },
  {
   "cell_type": "code",
   "execution_count": null,
   "metadata": {},
   "outputs": [],
   "source": []
  }
 ],
 "metadata": {
  "kernelspec": {
   "display_name": "torch_space",
   "language": "python",
   "name": "python3"
  },
  "language_info": {
   "codemirror_mode": {
    "name": "ipython",
    "version": 3
   },
   "file_extension": ".py",
   "mimetype": "text/x-python",
   "name": "python",
   "nbconvert_exporter": "python",
   "pygments_lexer": "ipython3",
   "version": "3.11.5"
  }
 },
 "nbformat": 4,
 "nbformat_minor": 2
}
