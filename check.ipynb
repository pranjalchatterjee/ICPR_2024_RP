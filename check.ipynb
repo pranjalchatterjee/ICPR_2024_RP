{
 "cells": [
  {
   "cell_type": "code",
   "execution_count": 1,
   "metadata": {},
   "outputs": [],
   "source": [
    "import torch\n",
    "from torchvision import transforms, datasets\n",
    "from torch.utils.data import DataLoader\n",
    "from torchvision import transforms, datasets, models\n",
    "import torch.nn as nn\n",
    "\n",
    "# Define the path to your dataset\n",
    "path = r'D:\\IIEST clg\\Project\\Fault Detection Panel\\Dataset\\Faulty_solar_panel'\n",
    "\n",
    "# Define transformations to be applied to the images\n",
    "transform = transforms.Compose([\n",
    "    transforms.Resize((224, 224)),  # Resize images to a common size\n",
    "    transforms.ToTensor(),  # Convert images to PyTorch tensors\n",
    "])\n"
   ]
  },
  {
   "cell_type": "code",
   "execution_count": 2,
   "metadata": {},
   "outputs": [],
   "source": [
    "\n",
    "# Create the ImageFolder dataset\n",
    "dataset = datasets.ImageFolder(root=path, transform=transform)\n"
   ]
  },
  {
   "cell_type": "code",
   "execution_count": 3,
   "metadata": {},
   "outputs": [
    {
     "name": "stdout",
     "output_type": "stream",
     "text": [
      "Class Labels: ['Bird-drop', 'Clean', 'Dusty', 'Electrical-damage', 'Physical-Damage', 'Snow-Covered']\n",
      "Batch Shape: torch.Size([32, 3, 224, 224]), Labels: tensor([4, 0, 4, 2, 1, 1, 1, 2, 2, 0, 4, 5, 5, 1, 2, 4, 3, 2, 0, 1, 1, 0, 0, 5,\n",
      "        3, 2, 0, 2, 0, 4, 3, 5])\n",
      "Batch Shape: torch.Size([32, 3, 224, 224]), Labels: tensor([3, 4, 1, 2, 3, 2, 1, 3, 1, 1, 2, 5, 1, 5, 0, 1, 1, 1, 2, 0, 0, 0, 5, 3,\n",
      "        1, 1, 1, 0, 0, 0, 2, 2])\n",
      "Batch Shape: torch.Size([32, 3, 224, 224]), Labels: tensor([0, 5, 2, 3, 2, 5, 2, 0, 0, 1, 2, 0, 0, 5, 0, 2, 0, 3, 0, 2, 0, 1, 4, 2,\n",
      "        2, 1, 2, 3, 2, 1, 5, 0])\n",
      "Batch Shape: torch.Size([32, 3, 224, 224]), Labels: tensor([2, 0, 2, 0, 1, 1, 0, 4, 5, 2, 1, 0, 3, 2, 3, 2, 3, 4, 3, 0, 4, 2, 1, 3,\n",
      "        0, 5, 0, 5, 1, 0, 3, 3])\n",
      "Batch Shape: torch.Size([32, 3, 224, 224]), Labels: tensor([0, 5, 3, 2, 1, 0, 5, 0, 1, 3, 2, 4, 2, 2, 0, 1, 3, 1, 2, 0, 4, 4, 5, 2,\n",
      "        5, 4, 2, 2, 5, 1, 3, 1])\n",
      "Batch Shape: torch.Size([32, 3, 224, 224]), Labels: tensor([1, 2, 2, 4, 3, 2, 2, 3, 3, 5, 5, 1, 2, 5, 0, 1, 0, 2, 3, 2, 5, 2, 4, 2,\n",
      "        3, 5, 0, 1, 2, 5, 1, 0])\n",
      "Batch Shape: torch.Size([32, 3, 224, 224]), Labels: tensor([2, 2, 3, 1, 3, 4, 3, 1, 0, 2, 5, 3, 1, 0, 2, 4, 4, 4, 0, 0, 0, 4, 0, 3,\n",
      "        3, 4, 2, 3, 4, 1, 1, 1])\n",
      "Batch Shape: torch.Size([32, 3, 224, 224]), Labels: tensor([3, 2, 0, 4, 0, 2, 0, 1, 5, 1, 2, 1, 4, 2, 1, 2, 1, 2, 0, 3, 1, 2, 5, 5,\n",
      "        3, 1, 0, 5, 2, 1, 1, 3])\n",
      "Batch Shape: torch.Size([32, 3, 224, 224]), Labels: tensor([5, 5, 2, 2, 1, 1, 1, 3, 2, 0, 3, 5, 0, 0, 0, 1, 4, 3, 0, 2, 2, 5, 1, 1,\n",
      "        5, 1, 2, 2, 1, 5, 2, 1])\n",
      "Batch Shape: torch.Size([32, 3, 224, 224]), Labels: tensor([5, 4, 0, 0, 1, 1, 1, 5, 5, 5, 1, 4, 4, 1, 5, 4, 3, 1, 2, 5, 2, 0, 1, 3,\n",
      "        5, 1, 4, 1, 2, 0, 1, 5])\n",
      "Batch Shape: torch.Size([32, 3, 224, 224]), Labels: tensor([1, 5, 5, 0, 1, 4, 2, 2, 0, 2, 3, 1, 4, 2, 1, 5, 4, 5, 2, 0, 0, 0, 5, 2,\n",
      "        3, 1, 1, 1, 4, 1, 2, 1])\n",
      "Batch Shape: torch.Size([32, 3, 224, 224]), Labels: tensor([5, 0, 2, 0, 0, 2, 2, 0, 3, 2, 1, 1, 0, 2, 2, 5, 3, 3, 0, 1, 2, 3, 3, 3,\n",
      "        0, 2, 0, 5, 1, 2, 0, 0])\n",
      "Batch Shape: torch.Size([32, 3, 224, 224]), Labels: tensor([3, 0, 3, 2, 5, 0, 0, 5, 1, 5, 0, 1, 0, 0, 2, 2, 5, 2, 3, 1, 0, 2, 0, 3,\n",
      "        0, 5, 5, 2, 2, 3, 2, 1])\n",
      "Batch Shape: torch.Size([32, 3, 224, 224]), Labels: tensor([0, 5, 4, 0, 0, 0, 1, 0, 1, 3, 0, 0, 1, 0, 0, 2, 4, 0, 5, 1, 0, 3, 2, 1,\n",
      "        3, 1, 2, 3, 1, 0, 4, 3])\n",
      "Batch Shape: torch.Size([32, 3, 224, 224]), Labels: tensor([2, 2, 0, 1, 1, 4, 4, 4, 0, 1, 4, 1, 2, 0, 3, 2, 3, 0, 2, 5, 0, 0, 4, 0,\n",
      "        0, 2, 1, 2, 2, 5, 5, 1])\n",
      "Batch Shape: torch.Size([32, 3, 224, 224]), Labels: tensor([3, 1, 2, 0, 2, 5, 2, 1, 1, 3, 0, 2, 1, 3, 2, 5, 0, 2, 0, 0, 0, 2, 1, 2,\n",
      "        5, 1, 2, 1, 0, 1, 0, 3])\n",
      "Batch Shape: torch.Size([32, 3, 224, 224]), Labels: tensor([5, 1, 2, 0, 1, 0, 1, 1, 4, 1, 3, 0, 2, 0, 3, 0, 2, 2, 0, 0, 5, 5, 0, 4,\n",
      "        2, 5, 0, 5, 2, 4, 5, 5])\n",
      "Batch Shape: torch.Size([32, 3, 224, 224]), Labels: tensor([1, 5, 5, 1, 4, 1, 1, 1, 2, 1, 0, 3, 2, 2, 1, 1, 5, 0, 5, 1, 4, 5, 2, 2,\n",
      "        0, 4, 1, 2, 1, 5, 4, 5])\n",
      "Batch Shape: torch.Size([32, 3, 224, 224]), Labels: tensor([1, 2, 2, 0, 5, 2, 0, 2, 2, 5, 0, 1, 2, 5, 3, 5, 2, 2, 3, 0, 2, 4, 1, 1,\n",
      "        0, 5, 0, 0, 5, 1, 5, 5])\n",
      "Batch Shape: torch.Size([32, 3, 224, 224]), Labels: tensor([1, 2, 4, 0, 0, 0, 0, 0, 2, 4, 0, 1, 5, 0, 2, 1, 0, 1, 3, 1, 1, 0, 1, 2,\n",
      "        3, 2, 5, 2, 4, 5, 5, 0])\n",
      "Batch Shape: torch.Size([32, 3, 224, 224]), Labels: tensor([2, 2, 0, 2, 0, 4, 1, 0, 0, 1, 2, 0, 3, 2, 0, 5, 2, 1, 0, 2, 2, 4, 1, 3,\n",
      "        4, 2, 2, 2, 1, 3, 1, 5])\n",
      "Batch Shape: torch.Size([32, 3, 224, 224]), Labels: tensor([4, 0, 5, 0, 1, 0, 0, 0, 0, 1, 2, 4, 1, 1, 2, 2, 0, 1, 2, 3, 3, 3, 1, 0,\n",
      "        0, 2, 2, 3, 2, 2, 2, 1])\n",
      "Batch Shape: torch.Size([32, 3, 224, 224]), Labels: tensor([4, 1, 1, 5, 1, 3, 3, 0, 0, 5, 2, 2, 0, 5, 3, 2, 4, 2, 1, 4, 3, 0, 1, 2,\n",
      "        1, 5, 2, 1, 0, 5, 1, 3])\n",
      "Batch Shape: torch.Size([32, 3, 224, 224]), Labels: tensor([1, 0, 1, 5, 1, 0, 0, 2, 2, 3, 1, 2, 4, 3, 5, 2, 1, 1, 0, 0, 1, 1, 5, 3,\n",
      "        1, 5, 3, 1, 1, 3, 0, 1])\n",
      "Batch Shape: torch.Size([32, 3, 224, 224]), Labels: tensor([3, 5, 5, 3, 5, 0, 3, 5, 3, 0, 5, 1, 0, 0, 0, 5, 5, 2, 2, 1, 4, 1, 1, 4,\n",
      "        1, 1, 3, 5, 0, 3, 3, 2])\n",
      "Batch Shape: torch.Size([32, 3, 224, 224]), Labels: tensor([3, 4, 5, 1, 0, 0, 0, 2, 5, 0, 1, 1, 2, 0, 5, 3, 1, 0, 5, 0, 0, 2, 0, 3,\n",
      "        3, 2, 5, 0, 4, 2, 0, 5])\n",
      "Batch Shape: torch.Size([32, 3, 224, 224]), Labels: tensor([1, 0, 0, 1, 2, 0, 0, 5, 0, 5, 0, 1, 0, 1, 0, 4, 5, 5, 0, 0, 0, 1, 0, 2,\n",
      "        2, 5, 1, 1, 2, 2, 2, 0])\n",
      "Batch Shape: torch.Size([21, 3, 224, 224]), Labels: tensor([0, 0, 3, 1, 1, 0, 2, 0, 4, 2, 2, 3, 0, 0, 0, 1, 2, 1, 1, 1, 0])\n"
     ]
    }
   ],
   "source": [
    "\n",
    "\n",
    "# Create a data loader\n",
    "data_loader = torch.utils.data.DataLoader(dataset, batch_size=32, shuffle=True)\n",
    "\n",
    "# Access class labels\n",
    "class_labels = dataset.classes\n",
    "print(\"Class Labels:\", class_labels)\n",
    "\n",
    "# Iterate through the data loader\n",
    "for images, labels in data_loader:\n",
    "    # Your training/validation loop here\n",
    "    print(f\"Batch Shape: {images.shape}, Labels: {labels}\")\n"
   ]
  },
  {
   "cell_type": "code",
   "execution_count": 4,
   "metadata": {},
   "outputs": [],
   "source": [
    "train_size = int(0.8 * len(dataset))\n",
    "val_size = len(dataset) - train_size\n",
    "train_dataset, val_dataset = torch.utils.data.random_split(dataset, [train_size, val_size])\n"
   ]
  },
  {
   "cell_type": "code",
   "execution_count": 5,
   "metadata": {},
   "outputs": [],
   "source": [
    "# Create data loaders\n",
    "train_loader = DataLoader(train_dataset, batch_size=32, shuffle=True)\n",
    "val_loader = DataLoader(val_dataset, batch_size=32, shuffle=False)"
   ]
  },
  {
   "cell_type": "code",
   "execution_count": 6,
   "metadata": {},
   "outputs": [
    {
     "name": "stderr",
     "output_type": "stream",
     "text": [
      "c:\\Users\\ADMIN\\miniconda3\\envs\\pranjal\\Lib\\site-packages\\torchvision\\models\\_utils.py:208: UserWarning: The parameter 'pretrained' is deprecated since 0.13 and may be removed in the future, please use 'weights' instead.\n",
      "  warnings.warn(\n",
      "c:\\Users\\ADMIN\\miniconda3\\envs\\pranjal\\Lib\\site-packages\\torchvision\\models\\_utils.py:223: UserWarning: Arguments other than a weight enum or `None` for 'weights' are deprecated since 0.13 and may be removed in the future. The current behavior is equivalent to passing `weights=EfficientNet_B0_Weights.IMAGENET1K_V1`. You can also use `weights=EfficientNet_B0_Weights.DEFAULT` to get the most up-to-date weights.\n",
      "  warnings.warn(msg)\n"
     ]
    }
   ],
   "source": [
    "# Define the EfficientNet model\n",
    "model = models.efficientnet_b0(pretrained=True)"
   ]
  },
  {
   "cell_type": "code",
   "execution_count": 7,
   "metadata": {},
   "outputs": [],
   "source": [
    "# model"
   ]
  },
  {
   "cell_type": "code",
   "execution_count": 8,
   "metadata": {},
   "outputs": [],
   "source": [
    "\n",
    "# Adjust the final fully connected layer to match the number of classes in your dataset\n",
    "model.classifier[1] = nn.Linear(1280, len(dataset.classes))\n",
    "# model"
   ]
  },
  {
   "cell_type": "code",
   "execution_count": 9,
   "metadata": {},
   "outputs": [
    {
     "name": "stdout",
     "output_type": "stream",
     "text": [
      "Requirement already satisfied: tqdm in c:\\users\\admin\\miniconda3\\envs\\pranjal\\lib\\site-packages (4.66.2)\n",
      "Requirement already satisfied: colorama in c:\\users\\admin\\miniconda3\\envs\\pranjal\\lib\\site-packages (from tqdm) (0.4.6)\n"
     ]
    }
   ],
   "source": [
    "!pip install tqdm \n"
   ]
  },
  {
   "cell_type": "code",
   "execution_count": 10,
   "metadata": {},
   "outputs": [],
   "source": [
    "import torch.optim as optim\n",
    "from tqdm.notebook import tqdm"
   ]
  },
  {
   "cell_type": "code",
   "execution_count": 11,
   "metadata": {},
   "outputs": [
    {
     "data": {
      "application/vnd.jupyter.widget-view+json": {
       "model_id": "f3a878c57bef481d8ca9642c18239ded",
       "version_major": 2,
       "version_minor": 0
      },
      "text/plain": [
       "Epoch 1/5 - Training:   0%|          | 0/23 [00:00<?, ?it/s]"
      ]
     },
     "metadata": {},
     "output_type": "display_data"
    },
    {
     "name": "stdout",
     "output_type": "stream",
     "text": [
      "Epoch 1/5, Loss: 1.3321632246176403, Accuracy: 0.7005649717514124\n"
     ]
    },
    {
     "data": {
      "application/vnd.jupyter.widget-view+json": {
       "model_id": "3db6e1c98a9847349857ac3c4547cdcd",
       "version_major": 2,
       "version_minor": 0
      },
      "text/plain": [
       "Epoch 2/5 - Training:   0%|          | 0/23 [00:00<?, ?it/s]"
      ]
     },
     "metadata": {},
     "output_type": "display_data"
    },
    {
     "name": "stdout",
     "output_type": "stream",
     "text": [
      "Epoch 2/5, Loss: 0.6275788793961207, Accuracy: 0.8305084745762712\n"
     ]
    },
    {
     "data": {
      "application/vnd.jupyter.widget-view+json": {
       "model_id": "e6b8145cf4cb49f19fb3b68c52becbc2",
       "version_major": 2,
       "version_minor": 0
      },
      "text/plain": [
       "Epoch 3/5 - Training:   0%|          | 0/23 [00:00<?, ?it/s]"
      ]
     },
     "metadata": {},
     "output_type": "display_data"
    },
    {
     "name": "stdout",
     "output_type": "stream",
     "text": [
      "Epoch 3/5, Loss: 0.6028157124916712, Accuracy: 0.847457627118644\n"
     ]
    },
    {
     "data": {
      "application/vnd.jupyter.widget-view+json": {
       "model_id": "64a1f7f9e8654459ae9b91a197eb1cb5",
       "version_major": 2,
       "version_minor": 0
      },
      "text/plain": [
       "Epoch 4/5 - Training:   0%|          | 0/23 [00:00<?, ?it/s]"
      ]
     },
     "metadata": {},
     "output_type": "display_data"
    },
    {
     "name": "stdout",
     "output_type": "stream",
     "text": [
      "Epoch 4/5, Loss: 0.49963903178771335, Accuracy: 0.8813559322033898\n"
     ]
    },
    {
     "data": {
      "application/vnd.jupyter.widget-view+json": {
       "model_id": "86560d9701a045bebb8b1244a0cdf3fb",
       "version_major": 2,
       "version_minor": 0
      },
      "text/plain": [
       "Epoch 5/5 - Training:   0%|          | 0/23 [00:00<?, ?it/s]"
      ]
     },
     "metadata": {},
     "output_type": "display_data"
    },
    {
     "name": "stdout",
     "output_type": "stream",
     "text": [
      "Epoch 5/5, Loss: 0.44839674482742947, Accuracy: 0.8757062146892656\n"
     ]
    }
   ],
   "source": [
    "\n",
    "\n",
    "# Define loss function and optimizer\n",
    "criterion = nn.CrossEntropyLoss()\n",
    "optimizer = optim.Adam(model.parameters(), lr=0.001)\n",
    "\n",
    "# Move the model to GPU if available\n",
    "device = torch.device('cuda' if torch.cuda.is_available() else 'cpu')\n",
    "model.to(device)\n",
    "\n",
    "# Training loop\n",
    "num_epochs = 5\n",
    "\n",
    "for epoch in range(num_epochs):\n",
    "    model.train()\n",
    "    for images, labels in tqdm(train_loader, desc=f'Epoch {epoch + 1}/{num_epochs} - Training'):\n",
    "    # for images, labels in train_loader:\n",
    "        images, labels = images.to(device), labels.to(device)\n",
    "\n",
    "        optimizer.zero_grad()\n",
    "        outputs = model(images)\n",
    "        loss = criterion(outputs, labels)\n",
    "        loss.backward()\n",
    "        optimizer.step()\n",
    "\n",
    "    # Validation\n",
    "    model.eval()\n",
    "    with torch.no_grad():\n",
    "        val_loss = 0.0\n",
    "        correct = 0\n",
    "        total = 0\n",
    "\n",
    "        for images, labels in val_loader:\n",
    "            images, labels = images.to(device), labels.to(device)\n",
    "\n",
    "            outputs = model(images)\n",
    "            _, predicted = torch.max(outputs.data, 1)\n",
    "            total += labels.size(0)\n",
    "            correct += (predicted == labels).sum().item()\n",
    "\n",
    "            loss = criterion(outputs, labels)\n",
    "            val_loss += loss.item()\n",
    "\n",
    "        print(f'Epoch {epoch + 1}/{num_epochs}, Loss: {val_loss / len(val_loader)}, Accuracy: {correct / total}')\n"
   ]
  },
  {
   "cell_type": "code",
   "execution_count": 12,
   "metadata": {},
   "outputs": [],
   "source": [
    "##run that  for resnet18\n",
    "## run for  densenet"
   ]
  },
  {
   "cell_type": "code",
   "execution_count": null,
   "metadata": {},
   "outputs": [],
   "source": []
  }
 ],
 "metadata": {
  "kernelspec": {
   "display_name": "pranjal",
   "language": "python",
   "name": "python3"
  },
  "language_info": {
   "codemirror_mode": {
    "name": "ipython",
    "version": 3
   },
   "file_extension": ".py",
   "mimetype": "text/x-python",
   "name": "python",
   "nbconvert_exporter": "python",
   "pygments_lexer": "ipython3",
   "version": "3.12.1"
  }
 },
 "nbformat": 4,
 "nbformat_minor": 2
}
